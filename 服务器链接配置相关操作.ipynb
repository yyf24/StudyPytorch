{
 "cells": [
  {
   "cell_type": "markdown",
   "id": "02dcb98c",
   "metadata": {},
   "source": [
    "# 7.23下午 xshell的使用和服务器的使用"
   ]
  },
  {
   "cell_type": "markdown",
   "id": "6f14c356",
   "metadata": {},
   "source": [
    "## Xshell破解版\n",
    "* 链接：https://pan.baidu.com/s/1QM-F_Ozwn_1LvzzewlI4Dg \n",
    "* 提取码：5ryt \n",
    "\n",
    "## Xshell使用步骤\n",
    "* 文件->新建->主机填服务器ip\n",
    "* 登录提示符->账户和密码\n",
    "* 保持活动状态修改一下时间\n",
    "* 登录脚本(可实现链接后自动运行)"
   ]
  },
  {
   "cell_type": "markdown",
   "id": "c214a141",
   "metadata": {},
   "source": [
    "## 服务器使用conda\n",
    "\n",
    "\n",
    "### 创建自己的环境\n",
    "* conda ccreate -n 'name' python='banbenhao'\n",
    "\n",
    "### 查看环境名称\n",
    "* conda info -e\n",
    "\n",
    "### 查看当前环境的包\n",
    "* conda -list\n",
    "\n",
    "### 进入环境\n",
    "\n",
    "* conda activate '环境名称'\n",
    "\n",
    "### 推出环境\n",
    "\n",
    "* conda deactivate\n",
    "\n",
    "### 下载包\n",
    "* conda install\n",
    "* pip install"
   ]
  },
  {
   "cell_type": "markdown",
   "id": "5aecd4e0",
   "metadata": {},
   "source": [
    "### 问题：安装cuda版本的pytorch，种种原因安装不成功\n",
    "\n",
    "* 要对应服务的cuda版本\n",
    "* python的版本要过高\n",
    "* 经过本人验证从pytorch.org找到可运行命令 conda install pytorch==1.2.0 torchvision==0.4.0 cudatoolkit=10.0 -c pytorch\n",
    "* 最简单的方法是复制别人建好的环境"
   ]
  },
  {
   "cell_type": "markdown",
   "id": "eb63c6ba",
   "metadata": {},
   "source": [
    "## tmux使用\n",
    "\n",
    "### 创建会话\n",
    "\n",
    "* tmux new -s session1\n",
    "\n",
    "### 销毁会话\n",
    "\n",
    "* exit\n",
    "* ctrl+b+d\n",
    "* tmux kill-session -t session-name\n",
    "\n",
    "### 挂起会话，回到终端\n",
    "\n",
    "* tmux detach\n",
    "\n",
    "### 查看会话\n",
    "\n",
    "* tmux ls\n",
    "\n",
    "### 进入指定会话\n",
    "\n",
    "* tmux new -s '会话名字'"
   ]
  }
 ],
 "metadata": {
  "kernelspec": {
   "display_name": "Python 3",
   "language": "python",
   "name": "python3"
  },
  "language_info": {
   "codemirror_mode": {
    "name": "ipython",
    "version": 3
   },
   "file_extension": ".py",
   "mimetype": "text/x-python",
   "name": "python",
   "nbconvert_exporter": "python",
   "pygments_lexer": "ipython3",
   "version": "3.8.8"
  }
 },
 "nbformat": 4,
 "nbformat_minor": 5
}
