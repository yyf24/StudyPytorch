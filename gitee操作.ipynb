{
 "cells": [
  {
   "cell_type": "markdown",
   "id": "308c2200",
   "metadata": {},
   "source": [
    "# gitee"
   ]
  },
  {
   "cell_type": "markdown",
   "id": "3268f062",
   "metadata": {},
   "source": [
    " github服务器在国外，设置代理和加速比较麻烦，可以选择国内仓库管理gitee，下面将介绍gitee一些坑"
   ]
  },
  {
   "cell_type": "markdown",
   "id": "587bd4bb",
   "metadata": {},
   "source": [
    "登录<a href=\"https://www.gitee.com\">gitee官网</a>注册账户"
   ]
  },
  {
   "cell_type": "markdown",
   "id": "21f3c4e4",
   "metadata": {},
   "source": [
    "在本地通过git remote 命令gitee的远程仓库起一个别名方便以后操作，示例如下：\n",
    "\n",
    "查看远程仓库列表 \n",
    "* git remote -v\n",
    "\n",
    "显示某个远程仓库信息\n",
    "* git remote show [别名]\n",
    "\n",
    "添加远程仓库\n",
    "* git remote add [别名]  [url]\n",
    "\n",
    "删除远程仓库\n",
    "* git remote rm name\n",
    "\n",
    "重命名\n",
    "* git remote rename old_name new_name\n",
    "\n",
    "上述操作中的url就是你在gitee中远程仓库的url\n",
    "经过上述仓库就可以通过git push/clone/fetch等操作与远程仓库进行同步了"
   ]
  },
  {
   "cell_type": "markdown",
   "id": "4c2bfb31",
   "metadata": {},
   "source": [
    "添加ssh公钥：\n",
    "打开git bash\n",
    "\n",
    "输入以下命令，回车：\n",
    "* ssh-keygen -t rsa -C \"邮箱\"\n",
    "\n",
    "查看公钥\n",
    "* cat ~/.ssh/id_rsa.pub\n",
    "\n",
    "去gitee找到公钥粘贴上面显示的公钥\n",
    "\n",
    "测试\n",
    "* ssh -T git@gitee.com\n"
   ]
  }
 ],
 "metadata": {
  "kernelspec": {
   "display_name": "Python 3",
   "language": "python",
   "name": "python3"
  },
  "language_info": {
   "codemirror_mode": {
    "name": "ipython",
    "version": 3
   },
   "file_extension": ".py",
   "mimetype": "text/x-python",
   "name": "python",
   "nbconvert_exporter": "python",
   "pygments_lexer": "ipython3",
   "version": "3.8.8"
  }
 },
 "nbformat": 4,
 "nbformat_minor": 5
}
