{
 "cells": [
  {
   "cell_type": "markdown",
   "id": "e9a3462f",
   "metadata": {},
   "source": [
    "# 7.23 学习git和github"
   ]
  },
  {
   "cell_type": "markdown",
   "id": "c6217ca2",
   "metadata": {},
   "source": [
    "### 初始化一个本地仓库\n",
    "\n",
    "* git init \n",
    "\n",
    "### 设置全局地址\n",
    "\n",
    "* git config --global user.name yyf\n",
    "\n",
    "* git config --global user.email 2457067207@qq.com\n",
    "\n",
    "### 向缓存库添加\n",
    "\n",
    "* git add 文件\n",
    "\n",
    "### 向本地仓库提交\n",
    "\n",
    "* git commit -m '本次操作总结'\n",
    "\n",
    "### 查看状态\n",
    "\n",
    "* git status\n",
    "\n",
    "### 查看日志\n",
    "\n",
    "* git log\n",
    "* git reflog\n"
   ]
  },
  {
   "cell_type": "code",
   "execution_count": null,
   "id": "0862e7cf",
   "metadata": {},
   "outputs": [],
   "source": []
  },
  {
   "cell_type": "code",
   "execution_count": null,
   "id": "00ed0454",
   "metadata": {},
   "outputs": [],
   "source": []
  }
 ],
 "metadata": {
  "kernelspec": {
   "display_name": "Python 3",
   "language": "python",
   "name": "python3"
  },
  "language_info": {
   "codemirror_mode": {
    "name": "ipython",
    "version": 3
   },
   "file_extension": ".py",
   "mimetype": "text/x-python",
   "name": "python",
   "nbconvert_exporter": "python",
   "pygments_lexer": "ipython3",
   "version": "3.8.8"
  }
 },
 "nbformat": 4,
 "nbformat_minor": 5
}
