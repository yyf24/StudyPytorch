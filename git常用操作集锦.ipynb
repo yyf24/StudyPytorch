{
 "cells": [
  {
   "cell_type": "markdown",
   "metadata": {},
   "source": [
    "# 学习git和github"
   ]
  },
  {
   "cell_type": "markdown",
   "metadata": {},
   "source": [
    "### 初始化一个本地仓库\n",
    "\n",
    "* git init \n",
    "\n",
    "### 设置全局地址\n",
    "\n",
    "* git config --global user.name yyf\n",
    "\n",
    "* git config --global user.email 2457067207@qq.com\n",
    "\n",
    "### 向缓存库添加\n",
    "\n",
    "* git add 文件\n",
    "\n",
    "### 向本地仓库提交\n",
    "\n",
    "* git commit -m '本次操作总结'\n",
    "\n",
    "### 查看状态\n",
    "\n",
    "* git status\n",
    "\n",
    "### 查看日志\n",
    "\n",
    "* git log\n",
    "* git reflog\n",
    "\n",
    "\n",
    "### 返回以前操作\n",
    "\n",
    "* git reset '返回操作状态的索引'（通过git reflog查看）\n",
    "\n",
    "### 创建分支\n",
    "\n",
    "* git branch ‘分支的名字’\n",
    "\n",
    "### 分支转换\n",
    "\n",
    "* git checkout '分支名字'\n",
    "\n",
    "### 分支合并\n",
    "\n",
    "* git merge\n"
   ]
  },
  {
   "cell_type": "markdown",
   "metadata": {},
   "source": [
    "### 填加远程库别名\n",
    "\n",
    "*  git remote add 'name' ‘url’\n",
    "\n",
    "### 查看远程库\n",
    "\n",
    "* git remote -v\n",
    "\n",
    "### 推送远程库合并\n",
    "\n",
    "* git push\n",
    "\n",
    "### 复制远程库\n",
    "\n",
    "* git clone\n",
    "\n",
    "### 从远程库下载\n",
    " \n",
    "* git fetch\n",
    "* git pull"
   ]
  },
  {
   "cell_type": "markdown",
   "metadata": {},
   "source": [
    "### 总结：\n",
    "* 学习了git与github的基本操作\n",
    "* 问题：由于github服务器在国外，使用git push等命名常常出现Time out。\n",
    "* 解决：设置代理\n",
    "\n",
    "* git config --global http.proxy 'socks5://127.0.0.1:1080'\n",
    "\n",
    "* git config --global https.proxy 'socks5://127.0.0.1:1080'\n",
    "\n",
    "* git config --global http.proxy ‘http://127.0.0.1:8080‘\n",
    "\n",
    "* git config --global https.proxy ’http://127.0.0.1:8080‘\n",
    "\n",
    "\n"
   ]
  }
 ],
 "metadata": {
  "kernelspec": {
   "display_name": "Python 3",
   "language": "python",
   "name": "python3"
  },
  "language_info": {
   "codemirror_mode": {
    "name": "ipython",
    "version": 3
   },
   "file_extension": ".py",
   "mimetype": "text/x-python",
   "name": "python",
   "nbconvert_exporter": "python",
   "pygments_lexer": "ipython3",
   "version": "3.8.5"
  }
 },
 "nbformat": 4,
 "nbformat_minor": 5
}
