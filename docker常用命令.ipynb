{
 "cells": [
  {
   "cell_type": "markdown",
   "metadata": {},
   "source": [
    "# 镜像操作"
   ]
  },
  {
   "cell_type": "markdown",
   "metadata": {},
   "source": [
    "### 下载镜像\n",
    "\n",
    "* docker pull"
   ]
  },
  {
   "cell_type": "markdown",
   "metadata": {},
   "source": [
    "### 查看镜像\n",
    "\n",
    "* docker images"
   ]
  },
  {
   "cell_type": "markdown",
   "metadata": {},
   "source": [
    "### 查看镜像详细信息\n",
    "\n",
    "* docker inspect"
   ]
  },
  {
   "cell_type": "markdown",
   "metadata": {},
   "source": [
    "### 查找镜像\n",
    "\n",
    "* docker search"
   ]
  },
  {
   "cell_type": "markdown",
   "metadata": {},
   "source": [
    "### 删除镜像\n",
    "\n",
    "* docker rmi "
   ]
  },
  {
   "cell_type": "markdown",
   "metadata": {},
   "source": [
    "### 创建镜像\n",
    "\n",
    "* 基于容器文件创建\n",
    "\n",
    "    docker commit -m (镜像信息) -a (作者信息) 容器索引 新的镜像名字：标签\n",
    "    \n",
    "* 基于本地镜像创建\n",
    "    \n",
    "    docker import\n",
    "    \n",
    "* 基于Dockerfile"
   ]
  },
  {
   "cell_type": "markdown",
   "metadata": {},
   "source": [
    "### 导出和载入镜像文件\n",
    "\n",
    "* 导出\n",
    "    \n",
    "    docker save -o   名字.tar   名字\n",
    "* 导入\n",
    "    \n",
    "    docker load < 名字.tar"
   ]
  },
  {
   "cell_type": "markdown",
   "metadata": {},
   "source": [
    "# 操作容器"
   ]
  },
  {
   "cell_type": "markdown",
   "metadata": {},
   "source": [
    "### 创建容器\n",
    "* dockers run -i(保持容器一直运行) -t(给容器分配终端)-d（进入后台一直运行） --name=（名字） 复制的镜像 /bin/bash\n",
    "* docker create -it 名字"
   ]
  },
  {
   "cell_type": "markdown",
   "metadata": {},
   "source": [
    "### 查看现在运行的容器\n",
    "\n",
    "docker ps（整在运行的的容器）\n",
    "docker ps -a（查看所有的容器）\n"
   ]
  },
  {
   "cell_type": "markdown",
   "metadata": {},
   "source": [
    "### 关闭容器\n",
    "\n",
    "docker stop 容器名字\n"
   ]
  },
  {
   "cell_type": "markdown",
   "metadata": {},
   "source": [
    "###  启动容器\n",
    "\n",
    "* docker start 容器名字\n",
    "* docker exec "
   ]
  },
  {
   "cell_type": "markdown",
   "metadata": {},
   "source": [
    "### 删除容器\n",
    "\n",
    "docker rm \n"
   ]
  },
  {
   "cell_type": "markdown",
   "metadata": {},
   "source": [
    "### 查看容器信息\n",
    "docker inspect 容器名字"
   ]
  },
  {
   "cell_type": "markdown",
   "metadata": {},
   "source": [
    "### 创建数据卷\n",
    "docker run -it --name -v 宿主机绝对路径:容器路径 复制的镜像 /bin/bash"
   ]
  },
  {
   "cell_type": "markdown",
   "metadata": {},
   "source": [
    "### 数据卷容器\n",
    "\n",
    "docker run -it --name===c3 -v /volume ubuntu /bin/bash\n",
    "\n",
    "docker run -it --name --volumes-from c3 ubuntu /bin/bash\n",
    "\n",
    "docker run -it --name --volumes-from c3 ubuntu /bin/bash\n"
   ]
  }
 ],
 "metadata": {
  "kernelspec": {
   "display_name": "Python 3",
   "language": "python",
   "name": "python3"
  },
  "language_info": {
   "codemirror_mode": {
    "name": "ipython",
    "version": 3
   },
   "file_extension": ".py",
   "mimetype": "text/x-python",
   "name": "python",
   "nbconvert_exporter": "python",
   "pygments_lexer": "ipython3",
   "version": "3.8.5"
  }
 },
 "nbformat": 4,
 "nbformat_minor": 5
}
